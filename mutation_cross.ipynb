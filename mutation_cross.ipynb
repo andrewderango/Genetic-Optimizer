{
  "cells": [
    {
      "cell_type": "markdown",
      "metadata": {
        "id": "CzEVVyDrQG-f"
      },
      "source": [
        "# An example of one time (one iteration) crossover and mutation on population used in Genetic Algorithm"
      ]
    },
    {
      "cell_type": "code",
      "execution_count": 65,
      "metadata": {
        "colab": {
          "base_uri": "https://localhost:8080/"
        },
        "id": "GvU6It-qFhGx",
        "outputId": "f2811e8d-5b77-4a66-bfb0-16f64e3e3600"
      },
      "outputs": [
        {
          "name": "stdout",
          "output_type": "stream",
          "text": [
            "Population:\n",
            " [[ 2.71843488 -2.85949323]\n",
            " [-4.51151096  1.47779656]\n",
            " [ 2.21579661 -2.64756011]\n",
            " [ 4.03548186  4.8548216 ]\n",
            " [-4.87559991 -1.31490033]\n",
            " [-0.93056034 -2.27400797]\n",
            " [-4.0896798  -1.01587917]\n",
            " [ 1.35890518 -1.51876773]\n",
            " [ 0.99579887 -4.70993681]\n",
            " [-2.62933684 -4.59017213]]\n",
            "\n",
            "Assume these are the values computed by objective function for each individual:\n",
            " [[8.70695161]\n",
            " [5.59897383]\n",
            " [5.20525816]\n",
            " [7.11696937]\n",
            " [4.53519688]\n",
            " [3.02007389]\n",
            " [0.18130754]\n",
            " [0.22837139]\n",
            " [3.69808229]\n",
            " [6.54423847]]\n"
          ]
        }
      ],
      "source": [
        "import numpy as np\n",
        "\n",
        "pop_size = 10\n",
        "mutation_rate = 0.3\n",
        "crossover_rate = 0.7\n",
        "num_variables = 2\n",
        "lower_bound = -5\n",
        "upper_bound = +5\n",
        "\n",
        "population = np.random.uniform(low=lower_bound, high=upper_bound, size=(pop_size, num_variables))\n",
        "\n",
        "# fitness value for each individual (or chromosome OR a set of decision variables) must be computed by the objective funtion\n",
        "# but here to just simpilify we assign a random number for each individual\n",
        "fitness = np.random.uniform(low=0, high=10, size=(pop_size, 1))\n",
        "\n",
        "print(\"Population:\\n\",population)\n",
        "print(\"\\nAssume these are the values computed by objective function for each individual:\\n\",fitness)\n"
      ]
    },
    {
      "cell_type": "markdown",
      "metadata": {
        "id": "k-7qplMrQdsA"
      },
      "source": [
        "We want to minimize the objective function. So the more fitness values is, the less possibility it has to be the solution. That's why I do inverse of fitness. Deviding by `+1e-6` is to make sure we won't have division by zero."
      ]
    },
    {
      "cell_type": "code",
      "execution_count": 66,
      "metadata": {
        "colab": {
          "base_uri": "https://localhost:8080/"
        },
        "id": "juYSkhxVPYrD",
        "outputId": "81d91864-ac3d-4b9f-88a1-36daae6f2465"
      },
      "outputs": [
        {
          "name": "stdout",
          "output_type": "stream",
          "text": [
            "The probility of individuals:\n",
            " [[0.00999121]\n",
            " [0.0155373 ]\n",
            " [0.01671251]\n",
            " [0.01222331]\n",
            " [0.01918174]\n",
            " [0.0288049 ]\n",
            " [0.47980623]\n",
            " [0.38092594]\n",
            " [0.0235238 ]\n",
            " [0.01329306]]\n"
          ]
        }
      ],
      "source": [
        "fitness_probs = 1 / (fitness + 1e-6)  # Adding a small constant to avoid division by zero\n",
        "\n",
        "# Normalize the probabilities\n",
        "fitness_probs /= fitness_probs.sum()\n",
        "\n",
        "print(\"The probility of individuals:\\n\",fitness_probs)\n",
        "# print(\"Sum of probabilities:\",fitness_probs.sum())"
      ]
    },
    {
      "cell_type": "markdown",
      "metadata": {
        "id": "piiklDtTRBas"
      },
      "source": [
        "I use `np.random.choice` function to pick the stronger individuals (the ones with higher probability are more likely to survive, althogh, there is a slight chance that individuals with less probability are going to survive too)."
      ]
    },
    {
      "cell_type": "code",
      "execution_count": 67,
      "metadata": {
        "colab": {
          "base_uri": "https://localhost:8080/"
        },
        "id": "L0tD30EvF6Wz",
        "outputId": "9f97f1e8-2d60-44fd-ac77-5f8ff05056e0"
      },
      "outputs": [
        {
          "name": "stdout",
          "output_type": "stream",
          "text": [
            "The index of individuals (chromosomes) that survived:\n",
            " [7 6 6 6 7 5 7 6 7 7]\n"
          ]
        }
      ],
      "source": [
        "# Select parents to crossover based on their probabilities\n",
        "selected_indices = np.random.choice(pop_size, size=pop_size, p=fitness_probs[:, 0])\n",
        "\n",
        "# Create the new population with selected parents\n",
        "new_population = population[selected_indices, :]\n",
        "\n",
        "print(\"The index of individuals (chromosomes) that survived:\\n\",selected_indices)"
      ]
    },
    {
      "cell_type": "markdown",
      "metadata": {
        "id": "f5J70F6jRvkQ"
      },
      "source": [
        "**IMPORTANT:** Every time you run this part a new set of indexes will be picked. But the ones you see more frequently are those which have higher probability in `fitness_probs`. Then I created `new_population` based on `selected_indices` holding the individuals with higher probability to be the best solution. And these survived individuals are going to make children and mutate to make the next generation!"
      ]
    },
    {
      "cell_type": "code",
      "execution_count": 68,
      "metadata": {
        "colab": {
          "base_uri": "https://localhost:8080/"
        },
        "id": "wB6bBHBJrhFs",
        "outputId": "82e520e5-c8b4-4533-ab8a-4c21adcb3332"
      },
      "outputs": [
        {
          "name": "stdout",
          "output_type": "stream",
          "text": [
            "New population:\n",
            " [[ 1.35890518 -1.51876773]\n",
            " [-4.0896798  -1.01587917]\n",
            " [-4.0896798  -1.01587917]\n",
            " [-4.0896798  -1.01587917]\n",
            " [ 1.35890518 -1.51876773]\n",
            " [-0.93056034 -2.27400797]\n",
            " [ 1.35890518 -1.51876773]\n",
            " [-4.0896798  -1.01587917]\n",
            " [ 1.35890518 -1.51876773]\n",
            " [ 1.35890518 -1.51876773]]\n"
          ]
        }
      ],
      "source": [
        "print(\"New population:\\n\",new_population)"
      ]
    },
    {
      "cell_type": "markdown",
      "metadata": {
        "id": "0ShngHfmStUT"
      },
      "source": [
        "Here, every two parents in `new_population` will make two new kids! carrying the same gens that their parents had. Mind you that there is a `crossover_rate` percent chance that two parents would be able to mate. Others will remain untouched. They stay single or you can say they don't want to be in a serious relationship!"
      ]
    },
    {
      "cell_type": "code",
      "execution_count": 76,
      "metadata": {
        "id": "sNlDFF-DG6vE"
      },
      "outputs": [
        {
          "name": "stdout",
          "output_type": "stream",
          "text": [
            "1\n",
            "1\n",
            "2\n",
            "2\n",
            "1\n",
            "2\n",
            "2\n",
            "1\n",
            "1\n",
            "1\n",
            "1\n",
            "1\n",
            "2\n",
            "2\n",
            "2\n",
            "2\n",
            "2\n",
            "2\n",
            "2\n",
            "2\n",
            "1\n",
            "2\n",
            "2\n",
            "2\n",
            "2\n",
            "1\n",
            "2\n",
            "2\n",
            "1\n",
            "2\n",
            "1\n",
            "1\n",
            "2\n",
            "2\n",
            "2\n",
            "2\n",
            "2\n",
            "1\n",
            "2\n",
            "2\n",
            "2\n",
            "2\n",
            "1\n",
            "2\n",
            "1\n",
            "1\n",
            "2\n",
            "2\n",
            "2\n",
            "1\n",
            "2\n",
            "2\n",
            "1\n",
            "1\n",
            "1\n",
            "2\n",
            "2\n",
            "1\n",
            "1\n",
            "2\n",
            "1\n",
            "1\n",
            "1\n",
            "1\n",
            "2\n",
            "2\n",
            "2\n",
            "2\n",
            "1\n",
            "1\n",
            "1\n",
            "2\n",
            "2\n",
            "1\n",
            "2\n",
            "1\n",
            "2\n",
            "1\n",
            "1\n",
            "1\n",
            "2\n",
            "1\n",
            "2\n",
            "1\n",
            "2\n",
            "2\n",
            "2\n",
            "2\n",
            "2\n",
            "1\n",
            "1\n",
            "2\n",
            "1\n",
            "2\n",
            "2\n",
            "1\n",
            "1\n",
            "1\n",
            "1\n"
          ]
        },
        {
          "ename": "IndexError",
          "evalue": "index 99 is out of bounds for axis 0 with size 10",
          "output_type": "error",
          "traceback": [
            "\u001b[0;31m---------------------------------------------------------------------------\u001b[0m",
            "\u001b[0;31mIndexError\u001b[0m                                Traceback (most recent call last)",
            "\u001b[1;32m/Users/andrewderango/Documents/Programming Files/MECHTRON2MP3/Assignment 2/Genetic-Optimizer/mutation_cross.ipynb Cell 10\u001b[0m line \u001b[0;36m1\n\u001b[1;32m     <a href='vscode-notebook-cell:/Users/andrewderango/Documents/Programming%20Files/MECHTRON2MP3/Assignment%202/Genetic-Optimizer/mutation_cross.ipynb#X12sZmlsZQ%3D%3D?line=13'>14</a>\u001b[0m child2 \u001b[39m=\u001b[39m np\u001b[39m.\u001b[39mconcatenate((parent2[:crosspoint], parent1[crosspoint:]))\n\u001b[1;32m     <a href='vscode-notebook-cell:/Users/andrewderango/Documents/Programming%20Files/MECHTRON2MP3/Assignment%202/Genetic-Optimizer/mutation_cross.ipynb#X12sZmlsZQ%3D%3D?line=15'>16</a>\u001b[0m \u001b[39m# Replace the parents with the new children\u001b[39;00m\n\u001b[0;32m---> <a href='vscode-notebook-cell:/Users/andrewderango/Documents/Programming%20Files/MECHTRON2MP3/Assignment%202/Genetic-Optimizer/mutation_cross.ipynb#X12sZmlsZQ%3D%3D?line=16'>17</a>\u001b[0m new_population[i] \u001b[39m=\u001b[39m child1\n\u001b[1;32m     <a href='vscode-notebook-cell:/Users/andrewderango/Documents/Programming%20Files/MECHTRON2MP3/Assignment%202/Genetic-Optimizer/mutation_cross.ipynb#X12sZmlsZQ%3D%3D?line=17'>18</a>\u001b[0m new_population[i \u001b[39m+\u001b[39m \u001b[39m1\u001b[39m] \u001b[39m=\u001b[39m child2\n",
            "\u001b[0;31mIndexError\u001b[0m: index 99 is out of bounds for axis 0 with size 10"
          ]
        }
      ],
      "source": [
        "# Perform crossover\n",
        "for i in range(0, pop_size, 2):\n",
        "    if np.random.rand() < crossover_rate:\n",
        "        parent1 = new_population[i]\n",
        "        parent2 = new_population[i + 1]\n",
        "\n",
        "        # Pick a random crossover point\n",
        "        crosspoint = np.random.randint(1, num_variables) # always 1 for 2 variables\n",
        "\n",
        "        # Create two new children\n",
        "        child1 = np.concatenate((parent1[:crosspoint], parent2[crosspoint:]))\n",
        "        child2 = np.concatenate((parent2[:crosspoint], parent1[crosspoint:]))\n",
        "\n",
        "        # Replace the parents with the new children\n",
        "        new_population[i] = child1\n",
        "        new_population[i + 1] = child2\n"
      ]
    },
    {
      "cell_type": "markdown",
      "metadata": {
        "id": "Avg-Khw4T5qf"
      },
      "source": [
        "Now the new population is like:"
      ]
    },
    {
      "cell_type": "code",
      "execution_count": 70,
      "metadata": {
        "colab": {
          "base_uri": "https://localhost:8080/"
        },
        "id": "qFeD6Zh4Icyi",
        "outputId": "475eef38-43f5-4b13-bf84-2de993b2072c"
      },
      "outputs": [
        {
          "data": {
            "text/plain": [
              "array([[ 1.35890518, -1.01587917],\n",
              "       [-4.0896798 , -1.51876773],\n",
              "       [-4.0896798 , -1.01587917],\n",
              "       [-4.0896798 , -1.01587917],\n",
              "       [ 1.35890518, -1.51876773],\n",
              "       [-0.93056034, -2.27400797],\n",
              "       [ 1.35890518, -1.01587917],\n",
              "       [-4.0896798 , -1.51876773],\n",
              "       [ 1.35890518, -1.51876773],\n",
              "       [ 1.35890518, -1.51876773]])"
            ]
          },
          "execution_count": 70,
          "metadata": {},
          "output_type": "execute_result"
        }
      ],
      "source": [
        "new_population"
      ]
    },
    {
      "cell_type": "markdown",
      "metadata": {
        "id": "1VaVutR2UBO7"
      },
      "source": [
        "The survived ones will have the chance to also mutate. Here is the story. Some say that Tyrannosaurus rex especies extincted because they had short hands and couldn't grab the food on the ground! \"Some\" also say Segnosaurus survived because there was enough food for them but they mutated to develop longer hands and eventually during millions of years (iterations in GA) they turned into monekys. This is not a real story I just made it up!\n",
        "\n",
        "Anyway, the total number of individuals (or chromosomes) are equal to `pop_size`. The total number of gens in each population holding are chromosomes are `pop_size * num_variables`. And randomly `mutation_rate` percent of them will mutate."
      ]
    },
    {
      "cell_type": "code",
      "execution_count": 71,
      "metadata": {
        "colab": {
          "base_uri": "https://localhost:8080/"
        },
        "id": "syDAbvahG-Yc",
        "outputId": "cdf6d0ba-3f9d-4a86-c38b-5d27f36339b4"
      },
      "outputs": [
        {
          "name": "stdout",
          "output_type": "stream",
          "text": [
            "Total numebr of gens: \n",
            " 20\n",
            "\n",
            "Total number of gens that will randomly mutate: \n",
            " 6\n",
            "\n",
            "The indexes of gens that will be mutate (numbers between zero to total_gen): \n",
            " [ 4  8  5 13 10 15]\n"
          ]
        }
      ],
      "source": [
        "# Calculate the total number of genes\n",
        "total_gen = pop_size * num_variables\n",
        "\n",
        "# Calculate the number of genes to mutate\n",
        "total_gen_mutate = int(total_gen * mutation_rate)\n",
        "\n",
        "# Generate random indices for genes to mutate\n",
        "genes_to_mutate_indices = np.random.choice(total_gen, size=total_gen_mutate, replace=False)\n",
        "\n",
        "print(\"Total numebr of gens: \\n\",total_gen)\n",
        "print(\"\\nTotal number of gens that will randomly mutate: \\n\",total_gen_mutate)\n",
        "print(\"\\nThe indexes of gens that will be mutate (numbers between zero to total_gen): \\n\",genes_to_mutate_indices)\n"
      ]
    },
    {
      "cell_type": "markdown",
      "metadata": {
        "id": "vRE4uGE0ZOWX"
      },
      "source": [
        "Here the gens that will mutate are replaced with a random number between lower_bound and upper_bound. These are the bounds for the decision variables (gens)."
      ]
    },
    {
      "cell_type": "code",
      "execution_count": 72,
      "metadata": {
        "colab": {
          "base_uri": "https://localhost:8080/"
        },
        "id": "vLvNwaAKkt66",
        "outputId": "b87c25fb-2b52-47bf-f0c0-096ff551ef7e"
      },
      "outputs": [
        {
          "name": "stdout",
          "output_type": "stream",
          "text": [
            "2 0\n",
            "4 0\n",
            "2 1\n",
            "6 1\n",
            "5 0\n",
            "7 1\n",
            "[[ 1.35890518 -1.01587917]\n",
            " [-4.0896798  -1.51876773]\n",
            " [ 0.96226013 -4.14421447]\n",
            " [-4.0896798  -1.01587917]\n",
            " [-2.73752195 -1.51876773]\n",
            " [-3.24940115 -2.27400797]\n",
            " [ 1.35890518  1.83320581]\n",
            " [-4.0896798   0.64290969]\n",
            " [ 1.35890518 -1.51876773]\n",
            " [ 1.35890518 -1.51876773]]\n"
          ]
        }
      ],
      "source": [
        "# Mutate the selected genes\n",
        "for index in genes_to_mutate_indices:\n",
        "    row = index // num_variables\n",
        "    col = index % num_variables\n",
        "    print(row, col)\n",
        "    new_population[row, col] = np.random.uniform(low=lower_bound, high=upper_bound)\n",
        "print(new_population)"
      ]
    },
    {
      "cell_type": "markdown",
      "metadata": {
        "id": "QXP81jfQZo9g"
      },
      "source": [
        "Now this a new update generation. I recompute the fitness with objective function and the probability of each indiviudal for this new population. I will keep do this until I get enough accuracy."
      ]
    },
    {
      "cell_type": "code",
      "execution_count": 73,
      "metadata": {
        "colab": {
          "base_uri": "https://localhost:8080/"
        },
        "id": "OH5McQl2k7GH",
        "outputId": "24372d48-c2ec-44d1-964a-1fdd11c6d9f4"
      },
      "outputs": [
        {
          "data": {
            "text/plain": [
              "array([[ 1.35890518, -1.01587917],\n",
              "       [-4.0896798 , -1.51876773],\n",
              "       [ 0.96226013, -4.14421447],\n",
              "       [-4.0896798 , -1.01587917],\n",
              "       [-2.73752195, -1.51876773],\n",
              "       [-3.24940115, -2.27400797],\n",
              "       [ 1.35890518,  1.83320581],\n",
              "       [-4.0896798 ,  0.64290969],\n",
              "       [ 1.35890518, -1.51876773],\n",
              "       [ 1.35890518, -1.51876773]])"
            ]
          },
          "execution_count": 73,
          "metadata": {},
          "output_type": "execute_result"
        }
      ],
      "source": [
        "new_population"
      ]
    },
    {
      "cell_type": "markdown",
      "metadata": {
        "id": "k24_N_XjaEPF"
      },
      "source": [
        "If you wanna see another numerical example you can read:\n",
        "https://arxiv.org/pdf/1308.4675.pdf"
      ]
    }
  ],
  "metadata": {
    "colab": {
      "provenance": [],
      "toc_visible": true
    },
    "kernelspec": {
      "display_name": "Python 3",
      "name": "python3"
    },
    "language_info": {
      "codemirror_mode": {
        "name": "ipython",
        "version": 3
      },
      "file_extension": ".py",
      "mimetype": "text/x-python",
      "name": "python",
      "nbconvert_exporter": "python",
      "pygments_lexer": "ipython3",
      "version": "3.10.1"
    }
  },
  "nbformat": 4,
  "nbformat_minor": 0
}
