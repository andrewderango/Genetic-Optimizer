{
  "cells": [
    {
      "cell_type": "markdown",
      "metadata": {
        "id": "CzEVVyDrQG-f"
      },
      "source": [
        "# An example of one time (one iteration) crossover and mutation on population used in Genetic Algorithm"
      ]
    },
    {
      "cell_type": "code",
      "execution_count": 77,
      "metadata": {
        "colab": {
          "base_uri": "https://localhost:8080/"
        },
        "id": "GvU6It-qFhGx",
        "outputId": "f2811e8d-5b77-4a66-bfb0-16f64e3e3600"
      },
      "outputs": [
        {
          "name": "stdout",
          "output_type": "stream",
          "text": [
            "Population:\n",
            " [[ 4.41792167  3.93414843]\n",
            " [ 4.33747262  1.18350576]\n",
            " [-2.9488488   2.00292505]\n",
            " [-1.74893369 -3.04591152]\n",
            " [-1.69728875 -0.09225098]\n",
            " [ 1.17116006 -4.54936697]\n",
            " [-1.48942575 -2.0498558 ]\n",
            " [-0.38721398 -0.21993398]\n",
            " [-1.78646831 -3.85246137]\n",
            " [ 1.64749791 -4.45638757]]\n",
            "\n",
            "Assume these are the values computed by objective function for each individual:\n",
            " [[7.06894257]\n",
            " [7.94708269]\n",
            " [8.69633823]\n",
            " [3.47688553]\n",
            " [4.27639167]\n",
            " [6.974597  ]\n",
            " [8.98327174]\n",
            " [5.36953231]\n",
            " [1.96223852]\n",
            " [6.03510523]]\n"
          ]
        }
      ],
      "source": [
        "import numpy as np\n",
        "\n",
        "pop_size = 10\n",
        "mutation_rate = 0.3\n",
        "crossover_rate = 0.7\n",
        "num_variables = 2\n",
        "lower_bound = -5\n",
        "upper_bound = +5\n",
        "\n",
        "population = np.random.uniform(low=lower_bound, high=upper_bound, size=(pop_size, num_variables))\n",
        "\n",
        "# fitness value for each individual (or chromosome OR a set of decision variables) must be computed by the objective funtion\n",
        "# but here to just simpilify we assign a random number for each individual\n",
        "fitness = np.random.uniform(low=0, high=10, size=(pop_size, 1))\n",
        "\n",
        "print(\"Population:\\n\",population)\n",
        "print(\"\\nAssume these are the values computed by objective function for each individual:\\n\",fitness)\n"
      ]
    },
    {
      "cell_type": "markdown",
      "metadata": {
        "id": "k-7qplMrQdsA"
      },
      "source": [
        "We want to minimize the objective function. So the more fitness values is, the less possibility it has to be the solution. That's why I do inverse of fitness. Deviding by `+1e-6` is to make sure we won't have division by zero."
      ]
    },
    {
      "cell_type": "code",
      "execution_count": 78,
      "metadata": {
        "colab": {
          "base_uri": "https://localhost:8080/"
        },
        "id": "juYSkhxVPYrD",
        "outputId": "81d91864-ac3d-4b9f-88a1-36daae6f2465"
      },
      "outputs": [
        {
          "name": "stdout",
          "output_type": "stream",
          "text": [
            "The probility of individuals:\n",
            " [[0.07003185]\n",
            " [0.06229344]\n",
            " [0.05692639]\n",
            " [0.14238348]\n",
            " [0.11576374]\n",
            " [0.07097918]\n",
            " [0.05510811]\n",
            " [0.09219632]\n",
            " [0.25228888]\n",
            " [0.08202858]]\n"
          ]
        }
      ],
      "source": [
        "fitness_probs = 1 / (fitness + 1e-6)  # Adding a small constant to avoid division by zero\n",
        "\n",
        "# Normalize the probabilities\n",
        "fitness_probs /= fitness_probs.sum()\n",
        "\n",
        "print(\"The probility of individuals:\\n\",fitness_probs)\n",
        "# print(\"Sum of probabilities:\",fitness_probs.sum())"
      ]
    },
    {
      "cell_type": "markdown",
      "metadata": {
        "id": "piiklDtTRBas"
      },
      "source": [
        "I use `np.random.choice` function to pick the stronger individuals (the ones with higher probability are more likely to survive, althogh, there is a slight chance that individuals with less probability are going to survive too)."
      ]
    },
    {
      "cell_type": "code",
      "execution_count": 79,
      "metadata": {
        "colab": {
          "base_uri": "https://localhost:8080/"
        },
        "id": "L0tD30EvF6Wz",
        "outputId": "9f97f1e8-2d60-44fd-ac77-5f8ff05056e0"
      },
      "outputs": [
        {
          "name": "stdout",
          "output_type": "stream",
          "text": [
            "The index of individuals (chromosomes) that survived:\n",
            " [8 9 4 8 7 3 1 8 7 3]\n"
          ]
        }
      ],
      "source": [
        "# Select parents to crossover based on their probabilities\n",
        "selected_indices = np.random.choice(pop_size, size=pop_size, p=fitness_probs[:, 0])\n",
        "\n",
        "# Create the new population with selected parents\n",
        "new_population = population[selected_indices, :]\n",
        "\n",
        "print(\"The index of individuals (chromosomes) that survived:\\n\",selected_indices)"
      ]
    },
    {
      "cell_type": "markdown",
      "metadata": {
        "id": "f5J70F6jRvkQ"
      },
      "source": [
        "**IMPORTANT:** Every time you run this part a new set of indexes will be picked. But the ones you see more frequently are those which have higher probability in `fitness_probs`. Then I created `new_population` based on `selected_indices` holding the individuals with higher probability to be the best solution. And these survived individuals are going to make children and mutate to make the next generation!"
      ]
    },
    {
      "cell_type": "code",
      "execution_count": 80,
      "metadata": {
        "colab": {
          "base_uri": "https://localhost:8080/"
        },
        "id": "wB6bBHBJrhFs",
        "outputId": "82e520e5-c8b4-4533-ab8a-4c21adcb3332"
      },
      "outputs": [
        {
          "name": "stdout",
          "output_type": "stream",
          "text": [
            "New population:\n",
            " [[-1.78646831 -3.85246137]\n",
            " [ 1.64749791 -4.45638757]\n",
            " [-1.69728875 -0.09225098]\n",
            " [-1.78646831 -3.85246137]\n",
            " [-0.38721398 -0.21993398]\n",
            " [-1.74893369 -3.04591152]\n",
            " [ 4.33747262  1.18350576]\n",
            " [-1.78646831 -3.85246137]\n",
            " [-0.38721398 -0.21993398]\n",
            " [-1.74893369 -3.04591152]]\n"
          ]
        }
      ],
      "source": [
        "print(\"New population:\\n\",new_population)"
      ]
    },
    {
      "cell_type": "markdown",
      "metadata": {
        "id": "0ShngHfmStUT"
      },
      "source": [
        "Here, every two parents in `new_population` will make two new kids! carrying the same gens that their parents had. Mind you that there is a `crossover_rate` percent chance that two parents would be able to mate. Others will remain untouched. They stay single or you can say they don't want to be in a serious relationship!"
      ]
    },
    {
      "cell_type": "code",
      "execution_count": 81,
      "metadata": {
        "id": "sNlDFF-DG6vE"
      },
      "outputs": [],
      "source": [
        "# Perform crossover\n",
        "for i in range(0, pop_size, 2):\n",
        "    if np.random.rand() < crossover_rate:\n",
        "        parent1 = new_population[i]\n",
        "        parent2 = new_population[i + 1]\n",
        "\n",
        "        # Pick a random crossover point\n",
        "        crosspoint = np.random.randint(1, num_variables) # always 1 for 2 variables\n",
        "\n",
        "        # Create two new children\n",
        "        child1 = np.concatenate((parent1[:crosspoint], parent2[crosspoint:]))\n",
        "        child2 = np.concatenate((parent2[:crosspoint], parent1[crosspoint:]))\n",
        "\n",
        "        # Replace the parents with the new children\n",
        "        new_population[i] = child1\n",
        "        new_population[i + 1] = child2\n"
      ]
    },
    {
      "cell_type": "markdown",
      "metadata": {
        "id": "Avg-Khw4T5qf"
      },
      "source": [
        "Now the new population is like:"
      ]
    },
    {
      "cell_type": "code",
      "execution_count": 82,
      "metadata": {
        "colab": {
          "base_uri": "https://localhost:8080/"
        },
        "id": "qFeD6Zh4Icyi",
        "outputId": "475eef38-43f5-4b13-bf84-2de993b2072c"
      },
      "outputs": [
        {
          "data": {
            "text/plain": [
              "array([[-1.78646831, -4.45638757],\n",
              "       [ 1.64749791, -3.85246137],\n",
              "       [-1.69728875, -0.09225098],\n",
              "       [-1.78646831, -3.85246137],\n",
              "       [-0.38721398, -3.04591152],\n",
              "       [-1.74893369, -0.21993398],\n",
              "       [ 4.33747262, -3.85246137],\n",
              "       [-1.78646831,  1.18350576],\n",
              "       [-0.38721398, -3.04591152],\n",
              "       [-1.74893369, -0.21993398]])"
            ]
          },
          "execution_count": 82,
          "metadata": {},
          "output_type": "execute_result"
        }
      ],
      "source": [
        "new_population"
      ]
    },
    {
      "cell_type": "markdown",
      "metadata": {
        "id": "1VaVutR2UBO7"
      },
      "source": [
        "The survived ones will have the chance to also mutate. Here is the story. Some say that Tyrannosaurus rex especies extincted because they had short hands and couldn't grab the food on the ground! \"Some\" also say Segnosaurus survived because there was enough food for them but they mutated to develop longer hands and eventually during millions of years (iterations in GA) they turned into monekys. This is not a real story I just made it up!\n",
        "\n",
        "Anyway, the total number of individuals (or chromosomes) are equal to `pop_size`. The total number of gens in each population holding are chromosomes are `pop_size * num_variables`. And randomly `mutation_rate` percent of them will mutate."
      ]
    },
    {
      "cell_type": "code",
      "execution_count": 83,
      "metadata": {
        "colab": {
          "base_uri": "https://localhost:8080/"
        },
        "id": "syDAbvahG-Yc",
        "outputId": "cdf6d0ba-3f9d-4a86-c38b-5d27f36339b4"
      },
      "outputs": [
        {
          "name": "stdout",
          "output_type": "stream",
          "text": [
            "Total numebr of gens: \n",
            " 20\n",
            "\n",
            "Total number of gens that will randomly mutate: \n",
            " 6\n",
            "\n",
            "The indexes of gens that will be mutate (numbers between zero to total_gen): \n",
            " [18 12 14  3 15 11]\n"
          ]
        }
      ],
      "source": [
        "# Calculate the total number of genes\n",
        "total_gen = pop_size * num_variables\n",
        "\n",
        "# Calculate the number of genes to mutate\n",
        "total_gen_mutate = int(total_gen * mutation_rate)\n",
        "\n",
        "# Generate random indices for genes to mutate\n",
        "genes_to_mutate_indices = np.random.choice(total_gen, size=total_gen_mutate, replace=False)\n",
        "\n",
        "print(\"Total numebr of gens: \\n\",total_gen)\n",
        "print(\"\\nTotal number of gens that will randomly mutate: \\n\",total_gen_mutate)\n",
        "print(\"\\nThe indexes of gens that will be mutate (numbers between zero to total_gen): \\n\",genes_to_mutate_indices)\n"
      ]
    },
    {
      "cell_type": "markdown",
      "metadata": {
        "id": "vRE4uGE0ZOWX"
      },
      "source": [
        "Here the gens that will mutate are replaced with a random number between lower_bound and upper_bound. These are the bounds for the decision variables (gens)."
      ]
    },
    {
      "cell_type": "code",
      "execution_count": 84,
      "metadata": {
        "colab": {
          "base_uri": "https://localhost:8080/"
        },
        "id": "vLvNwaAKkt66",
        "outputId": "b87c25fb-2b52-47bf-f0c0-096ff551ef7e"
      },
      "outputs": [
        {
          "name": "stdout",
          "output_type": "stream",
          "text": [
            "9 0\n",
            "6 0\n",
            "7 0\n",
            "1 1\n",
            "7 1\n",
            "5 1\n",
            "[[-1.78646831 -4.45638757]\n",
            " [ 1.64749791 -2.80038089]\n",
            " [-1.69728875 -0.09225098]\n",
            " [-1.78646831 -3.85246137]\n",
            " [-0.38721398 -3.04591152]\n",
            " [-1.74893369  4.39755212]\n",
            " [ 4.91955612 -3.85246137]\n",
            " [-3.94710062  4.48034802]\n",
            " [-0.38721398 -3.04591152]\n",
            " [ 0.83971465 -0.21993398]]\n"
          ]
        }
      ],
      "source": [
        "# Mutate the selected genes\n",
        "for index in genes_to_mutate_indices:\n",
        "    row = index // num_variables\n",
        "    col = index % num_variables\n",
        "    print(row, col)\n",
        "    new_population[row, col] = np.random.uniform(low=lower_bound, high=upper_bound)\n",
        "print(new_population)"
      ]
    },
    {
      "cell_type": "markdown",
      "metadata": {
        "id": "QXP81jfQZo9g"
      },
      "source": [
        "Now this a new update generation. I recompute the fitness with objective function and the probability of each indiviudal for this new population. I will keep do this until I get enough accuracy."
      ]
    },
    {
      "cell_type": "code",
      "execution_count": 85,
      "metadata": {
        "colab": {
          "base_uri": "https://localhost:8080/"
        },
        "id": "OH5McQl2k7GH",
        "outputId": "24372d48-c2ec-44d1-964a-1fdd11c6d9f4"
      },
      "outputs": [
        {
          "data": {
            "text/plain": [
              "array([[-1.78646831, -4.45638757],\n",
              "       [ 1.64749791, -2.80038089],\n",
              "       [-1.69728875, -0.09225098],\n",
              "       [-1.78646831, -3.85246137],\n",
              "       [-0.38721398, -3.04591152],\n",
              "       [-1.74893369,  4.39755212],\n",
              "       [ 4.91955612, -3.85246137],\n",
              "       [-3.94710062,  4.48034802],\n",
              "       [-0.38721398, -3.04591152],\n",
              "       [ 0.83971465, -0.21993398]])"
            ]
          },
          "execution_count": 85,
          "metadata": {},
          "output_type": "execute_result"
        }
      ],
      "source": [
        "new_population"
      ]
    },
    {
      "cell_type": "markdown",
      "metadata": {
        "id": "k24_N_XjaEPF"
      },
      "source": [
        "If you wanna see another numerical example you can read:\n",
        "https://arxiv.org/pdf/1308.4675.pdf"
      ]
    }
  ],
  "metadata": {
    "colab": {
      "provenance": [],
      "toc_visible": true
    },
    "kernelspec": {
      "display_name": "Python 3",
      "name": "python3"
    },
    "language_info": {
      "codemirror_mode": {
        "name": "ipython",
        "version": 3
      },
      "file_extension": ".py",
      "mimetype": "text/x-python",
      "name": "python",
      "nbconvert_exporter": "python",
      "pygments_lexer": "ipython3",
      "version": "3.10.1"
    }
  },
  "nbformat": 4,
  "nbformat_minor": 0
}
